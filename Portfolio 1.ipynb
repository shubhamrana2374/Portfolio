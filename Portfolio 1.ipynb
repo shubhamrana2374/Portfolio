{
 "cells": [
  {
   "cell_type": "code",
   "execution_count": null,
   "metadata": {},
   "outputs": [],
   "source": [
    "import pandas as pd\n",
    "from matplotlib import pyplot as plt\n",
    "from datetime import timedelta\n",
    "plt.style.use('seaborn')\n",
    "%matplotlib inline"
   ]
  },
  {
   "cell_type": "markdown",
   "metadata": {},
   "source": [
    "# Analysis of Cycling Data\n",
    "\n",
    "## Loading Data\n",
    "\n",
    "The first dataset is an export of my ride data from [Strava](https://strava.com/), an online social \n",
    "network site for cycling and other sports.  This data is a log of every ride since the start of 2018\n",
    "and contains summary data like the distance and average speed.  It was exported using \n",
    "the script `stravaget.py` which uses the stravalib module to read data. Some details of\n",
    "the fields exported by that script can be seen in [the documentation for stravalib](https://pythonhosted.org/stravalib/api.html#stravalib.model.Activity). \n",
    "\n",
    "The exported data is a CSV file so that's easy to read, however the date information in the file is \n",
    "recorded in a different timezone (UTC) so we need to do a bit of conversion.  In reading the data I'm\n",
    "setting the index of the data frame to be the datetime of the ride. "
   ]
  },
  {
   "cell_type": "code",
   "execution_count": null,
   "metadata": {},
   "outputs": [],
   "source": [
    "strava = pd.read_csv('data/strava_export.csv', index_col='date', parse_dates=True)\n",
    "strava.index = strava.index.tz_localize('UTC')\n",
    "strava.head()"
   ]
  },
  {
   "cell_type": "markdown",
   "metadata": {},
   "source": [
    "The second dataset comes from an application called [GoldenCheetah](https://www.goldencheetah.org/) which provides\n",
    "some analytics services over ride data.  This has some of the same fields but adds a lot of analysis of the \n",
    "power, speed and heart rate data in each ride.  This data overlaps with the Strava data but doesn't include all \n",
    "of the same rides. \n",
    "\n",
    "Again we create an index using the datetime for each ride, this time combining two columns in the data (date and time) \n",
    "and localising to Sydney so that the times match those for the Strava data. "
   ]
  },
  {
   "cell_type": "code",
   "execution_count": null,
   "metadata": {
    "scrolled": true
   },
   "outputs": [],
   "source": [
    "cheetah = pd.read_csv('data/cheetah.csv', skipinitialspace=True)\n",
    "cheetah.index = pd.to_datetime(cheetah['date'] + ' ' + cheetah['time'])\n",
    "cheetah.index = cheetah.index.tz_localize('Australia/Sydney')\n",
    "cheetah.head()"
   ]
  },
  {
   "cell_type": "markdown",
   "metadata": {},
   "source": [
    "The GoldenCheetah data contains many many variables (columns) and I won't go into all of them here. Some\n",
    "that are of particular interest for the analysis below are:\n",
    "\n",
    "Here are definitions of some of the more important fields in the data. Capitalised fields come from the GoldenCheetah data\n",
    "while lowercase_fields come from Strava. There are many cases where fields are duplicated and in this case the values\n",
    "should be the same, although there is room for variation as the algorithm used to calculate them could be different\n",
    "in each case. \n",
    "\n",
    "  * Duration - overall duration of the ride, should be same as elapsed_time\n",
    "  * Time Moving - time spent moving (not resting or waiting at lights), should be the same as moving_time\n",
    "  * Elevation Gain - metres climbed over the ride\n",
    "  * Average Speed - over the ride\n",
    "  * Average Power - average power in watts as measured by a power meter, relates to how much effort is being put in to the ride, should be the same as  * average_watts' from Strava\n",
    "  * Nonzero Average Power - same as Average Power but excludes times when power is zero from the average\n",
    "  * Average Heart Rate - should be the same as average_heartrate\n",
    "  * Average Cadence - cadence is the rotations per minute of the pedals\n",
    "  * Average Temp - temperature in the environment as measured by the bike computer (should be same as average_temp)\n",
    "  * VAM - average ascent speed - speed up hills\n",
    "  * Calories (HR) - Calorie expendature as estimated from heart rate data\n",
    "  * 1 sec Peak Power - this and other  'Peak Power' measures give the maximum power output in the ride over this time period.  Will be higher for shorter periods. High values in short periods would come from a very 'punchy' ride with sprints for example.\n",
    "  * 1 min Peak Hr - a similar measure relating to Heart Rate\n",
    "  * NP - Normalised Power, a smoothed average power measurement, generally higher than Average Power \n",
    "  * TSS - Training Stress Score, a measure of how hard a ride this was\n",
    "  * device_watts - True if the power (watts) measures were from a power meter, False if they were estimated\n",
    "  * distance - distance travelled in Km\n",
    "  * kudos - likes from other Strava users (social network)\n",
    "  * workout_type - one of  'Race',  'Workout' or  'Ride'\n",
    "  \n",
    "  \n",
    "Some of the GoldenCheetah parameters are defined [in thier documentation](https://github.com/GoldenCheetah/GoldenCheetah/wiki/UG_Glossary).  "
   ]
  },
  {
   "cell_type": "markdown",
   "metadata": {},
   "source": [
    "## Your Tasks\n",
    "\n",
    "Your first task is to combine these two data frames using the [`join` method of Pandas](https://pandas.pydata.org/pandas-docs/stable/user_guide/merging.html#joining-on-index).   The goal is to keep only those rows of data \n",
    "that appear in __both__ data frames so that we have complete data for every row.  "
   ]
  },
  {
   "cell_type": "code",
   "execution_count": null,
   "metadata": {},
   "outputs": [],
   "source": []
  },
  {
   "cell_type": "markdown",
   "metadata": {},
   "source": [
    "## Required Analysis\n",
    "\n",
    "1. Remove rides with no measured power (where device_watts is False) - these are commutes or MTB rides\n",
    "* Look at the distributions of some key variables: time, distance, average speed, average power, TSS. Are they normally distributed? Skewed? \n",
    "* Explore the relationships between the following variables. Are any of them corrolated with each other (do they vary together in a predictable way)? Can you explain any relationships you observe?  \n",
    "    * Distance\n",
    "    * Moving Time\n",
    "    * Average Speed\n",
    "    * Heart Rate\n",
    "    * Power (watts)\n",
    "    * Normalised power (NP)\n",
    "    * Training Stress Score\n",
    "    * Elevation Gain\n",
    "* We want to explore the differences between the three categories: `Race`, `Workout` and `Ride`.\n",
    "    * Use scatter plots with different colours for each category to explore how these categories differ.  \n",
    "    * Use histograms or box plots to visualise the different distributions of a variable for the three categories.\n",
    "    * In both cases, experiment with different variables but only include those that are interesting in your final notebook (if none are interesting, show us a representative example).\n",
    "\n",
    "\n",
    "## Challenge\n",
    "\n",
    "* What leads to more `kudos`? Is there anything to indicate which rides are more popular? Explore the relationship between the main variables and kudos. Show a plot and comment on any relationship you observe. \n",
    "\n",
    "* Generate a plot that summarises the number of km ridden each month over the period of the data. Overlay this with the _sum_ of the Training Stress Score and the _average_ of the Average Speed to generate an overall summary of activity.\n",
    "\n",
    "* Generate a similar graph but one that shows the activity over a given month, with the sum of the values for each day of the month shown.  So, if there are two rides on a given day, the graph should show the sum of the distances etc for these rides.\n",
    "\n",
    "Hint: to generate these summary plots you need to use the [timeseries/date functionality](https://pandas.pydata.org/pandas-docs/stable/user_guide/timeseries.html) in Pandas to generate a new data frame containing the required data.  \n",
    "\n",
    "__Note:__ once you have completed these steps you can remove this cell.  Use the text as a starting point for the documentation of your workflow and discussion of results.\n"
   ]
  },
  {
   "cell_type": "code",
   "execution_count": null,
   "metadata": {},
   "outputs": [],
   "source": []
  }
 ],
 "metadata": {
  "kernelspec": {
   "display_name": "Python 3",
   "language": "python",
   "name": "python3"
  },
  "language_info": {
   "codemirror_mode": {
    "name": "ipython",
    "version": 3
   },
   "file_extension": ".py",
   "mimetype": "text/x-python",
   "name": "python",
   "nbconvert_exporter": "python",
   "pygments_lexer": "ipython3",
   "version": "3.6.8"
  }
 },
 "nbformat": 4,
 "nbformat_minor": 2
}
